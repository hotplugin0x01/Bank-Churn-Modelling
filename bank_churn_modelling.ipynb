{
  "nbformat": 4,
  "nbformat_minor": 0,
  "metadata": {
    "kernelspec": {
      "display_name": "Python 3",
      "language": "python",
      "name": "python3"
    },
    "language_info": {
      "codemirror_mode": {
        "name": "ipython",
        "version": 3
      },
      "file_extension": ".py",
      "mimetype": "text/x-python",
      "name": "python",
      "nbconvert_exporter": "python",
      "pygments_lexer": "ipython3",
      "version": "3.7.6"
    },
    "colab": {
      "name": "bank_churn_modelling.ipynb",
      "provenance": []
    }
  },
  "cells": [
    {
      "cell_type": "code",
      "metadata": {
        "id": "M0dYJ5ECfIRe",
        "colab_type": "code",
        "colab": {}
      },
      "source": [
        "import pandas as pd \n",
        "import numpy as np"
      ],
      "execution_count": 0,
      "outputs": []
    },
    {
      "cell_type": "code",
      "metadata": {
        "id": "AFy6vHDPfIRy",
        "colab_type": "code",
        "colab": {}
      },
      "source": [
        "data = pd.read_csv('/content/Churn_Modelling.csv')"
      ],
      "execution_count": 0,
      "outputs": []
    },
    {
      "cell_type": "code",
      "metadata": {
        "id": "mYh0exU3fISD",
        "colab_type": "code",
        "colab": {
          "base_uri": "https://localhost:8080/",
          "height": 226
        },
        "outputId": "25458c6c-4558-4ffa-ce1c-ee5d3f9dd7a4"
      },
      "source": [
        "data.head()"
      ],
      "execution_count": 6,
      "outputs": [
        {
          "output_type": "execute_result",
          "data": {
            "text/html": [
              "<div>\n",
              "<style scoped>\n",
              "    .dataframe tbody tr th:only-of-type {\n",
              "        vertical-align: middle;\n",
              "    }\n",
              "\n",
              "    .dataframe tbody tr th {\n",
              "        vertical-align: top;\n",
              "    }\n",
              "\n",
              "    .dataframe thead th {\n",
              "        text-align: right;\n",
              "    }\n",
              "</style>\n",
              "<table border=\"1\" class=\"dataframe\">\n",
              "  <thead>\n",
              "    <tr style=\"text-align: right;\">\n",
              "      <th></th>\n",
              "      <th>RowNumber</th>\n",
              "      <th>CustomerId</th>\n",
              "      <th>Surname</th>\n",
              "      <th>CreditScore</th>\n",
              "      <th>Geography</th>\n",
              "      <th>Gender</th>\n",
              "      <th>Age</th>\n",
              "      <th>Tenure</th>\n",
              "      <th>Balance</th>\n",
              "      <th>NumOfProducts</th>\n",
              "      <th>HasCrCard</th>\n",
              "      <th>IsActiveMember</th>\n",
              "      <th>EstimatedSalary</th>\n",
              "      <th>Exited</th>\n",
              "    </tr>\n",
              "  </thead>\n",
              "  <tbody>\n",
              "    <tr>\n",
              "      <th>0</th>\n",
              "      <td>1</td>\n",
              "      <td>15634602</td>\n",
              "      <td>Hargrave</td>\n",
              "      <td>619</td>\n",
              "      <td>France</td>\n",
              "      <td>Female</td>\n",
              "      <td>42</td>\n",
              "      <td>2</td>\n",
              "      <td>0.00</td>\n",
              "      <td>1</td>\n",
              "      <td>1</td>\n",
              "      <td>1</td>\n",
              "      <td>101348.88</td>\n",
              "      <td>1</td>\n",
              "    </tr>\n",
              "    <tr>\n",
              "      <th>1</th>\n",
              "      <td>2</td>\n",
              "      <td>15647311</td>\n",
              "      <td>Hill</td>\n",
              "      <td>608</td>\n",
              "      <td>Spain</td>\n",
              "      <td>Female</td>\n",
              "      <td>41</td>\n",
              "      <td>1</td>\n",
              "      <td>83807.86</td>\n",
              "      <td>1</td>\n",
              "      <td>0</td>\n",
              "      <td>1</td>\n",
              "      <td>112542.58</td>\n",
              "      <td>0</td>\n",
              "    </tr>\n",
              "    <tr>\n",
              "      <th>2</th>\n",
              "      <td>3</td>\n",
              "      <td>15619304</td>\n",
              "      <td>Onio</td>\n",
              "      <td>502</td>\n",
              "      <td>France</td>\n",
              "      <td>Female</td>\n",
              "      <td>42</td>\n",
              "      <td>8</td>\n",
              "      <td>159660.80</td>\n",
              "      <td>3</td>\n",
              "      <td>1</td>\n",
              "      <td>0</td>\n",
              "      <td>113931.57</td>\n",
              "      <td>1</td>\n",
              "    </tr>\n",
              "    <tr>\n",
              "      <th>3</th>\n",
              "      <td>4</td>\n",
              "      <td>15701354</td>\n",
              "      <td>Boni</td>\n",
              "      <td>699</td>\n",
              "      <td>France</td>\n",
              "      <td>Female</td>\n",
              "      <td>39</td>\n",
              "      <td>1</td>\n",
              "      <td>0.00</td>\n",
              "      <td>2</td>\n",
              "      <td>0</td>\n",
              "      <td>0</td>\n",
              "      <td>93826.63</td>\n",
              "      <td>0</td>\n",
              "    </tr>\n",
              "    <tr>\n",
              "      <th>4</th>\n",
              "      <td>5</td>\n",
              "      <td>15737888</td>\n",
              "      <td>Mitchell</td>\n",
              "      <td>850</td>\n",
              "      <td>Spain</td>\n",
              "      <td>Female</td>\n",
              "      <td>43</td>\n",
              "      <td>2</td>\n",
              "      <td>125510.82</td>\n",
              "      <td>1</td>\n",
              "      <td>1</td>\n",
              "      <td>1</td>\n",
              "      <td>79084.10</td>\n",
              "      <td>0</td>\n",
              "    </tr>\n",
              "  </tbody>\n",
              "</table>\n",
              "</div>"
            ],
            "text/plain": [
              "   RowNumber  CustomerId   Surname  ...  IsActiveMember EstimatedSalary Exited\n",
              "0          1    15634602  Hargrave  ...               1       101348.88      1\n",
              "1          2    15647311      Hill  ...               1       112542.58      0\n",
              "2          3    15619304      Onio  ...               0       113931.57      1\n",
              "3          4    15701354      Boni  ...               0        93826.63      0\n",
              "4          5    15737888  Mitchell  ...               1        79084.10      0\n",
              "\n",
              "[5 rows x 14 columns]"
            ]
          },
          "metadata": {
            "tags": []
          },
          "execution_count": 6
        }
      ]
    },
    {
      "cell_type": "code",
      "metadata": {
        "id": "_idgbWD4fISS",
        "colab_type": "code",
        "colab": {
          "base_uri": "https://localhost:8080/",
          "height": 320
        },
        "outputId": "879dcfd8-d803-4aee-879c-62f840d4dfd8"
      },
      "source": [
        "data.describe()"
      ],
      "execution_count": 7,
      "outputs": [
        {
          "output_type": "execute_result",
          "data": {
            "text/html": [
              "<div>\n",
              "<style scoped>\n",
              "    .dataframe tbody tr th:only-of-type {\n",
              "        vertical-align: middle;\n",
              "    }\n",
              "\n",
              "    .dataframe tbody tr th {\n",
              "        vertical-align: top;\n",
              "    }\n",
              "\n",
              "    .dataframe thead th {\n",
              "        text-align: right;\n",
              "    }\n",
              "</style>\n",
              "<table border=\"1\" class=\"dataframe\">\n",
              "  <thead>\n",
              "    <tr style=\"text-align: right;\">\n",
              "      <th></th>\n",
              "      <th>RowNumber</th>\n",
              "      <th>CustomerId</th>\n",
              "      <th>CreditScore</th>\n",
              "      <th>Age</th>\n",
              "      <th>Tenure</th>\n",
              "      <th>Balance</th>\n",
              "      <th>NumOfProducts</th>\n",
              "      <th>HasCrCard</th>\n",
              "      <th>IsActiveMember</th>\n",
              "      <th>EstimatedSalary</th>\n",
              "      <th>Exited</th>\n",
              "    </tr>\n",
              "  </thead>\n",
              "  <tbody>\n",
              "    <tr>\n",
              "      <th>count</th>\n",
              "      <td>10000.00000</td>\n",
              "      <td>1.000000e+04</td>\n",
              "      <td>10000.000000</td>\n",
              "      <td>10000.000000</td>\n",
              "      <td>10000.000000</td>\n",
              "      <td>10000.000000</td>\n",
              "      <td>10000.000000</td>\n",
              "      <td>10000.00000</td>\n",
              "      <td>10000.000000</td>\n",
              "      <td>10000.000000</td>\n",
              "      <td>10000.000000</td>\n",
              "    </tr>\n",
              "    <tr>\n",
              "      <th>mean</th>\n",
              "      <td>5000.50000</td>\n",
              "      <td>1.569094e+07</td>\n",
              "      <td>650.528800</td>\n",
              "      <td>38.921800</td>\n",
              "      <td>5.012800</td>\n",
              "      <td>76485.889288</td>\n",
              "      <td>1.530200</td>\n",
              "      <td>0.70550</td>\n",
              "      <td>0.515100</td>\n",
              "      <td>100090.239881</td>\n",
              "      <td>0.203700</td>\n",
              "    </tr>\n",
              "    <tr>\n",
              "      <th>std</th>\n",
              "      <td>2886.89568</td>\n",
              "      <td>7.193619e+04</td>\n",
              "      <td>96.653299</td>\n",
              "      <td>10.487806</td>\n",
              "      <td>2.892174</td>\n",
              "      <td>62397.405202</td>\n",
              "      <td>0.581654</td>\n",
              "      <td>0.45584</td>\n",
              "      <td>0.499797</td>\n",
              "      <td>57510.492818</td>\n",
              "      <td>0.402769</td>\n",
              "    </tr>\n",
              "    <tr>\n",
              "      <th>min</th>\n",
              "      <td>1.00000</td>\n",
              "      <td>1.556570e+07</td>\n",
              "      <td>350.000000</td>\n",
              "      <td>18.000000</td>\n",
              "      <td>0.000000</td>\n",
              "      <td>0.000000</td>\n",
              "      <td>1.000000</td>\n",
              "      <td>0.00000</td>\n",
              "      <td>0.000000</td>\n",
              "      <td>11.580000</td>\n",
              "      <td>0.000000</td>\n",
              "    </tr>\n",
              "    <tr>\n",
              "      <th>25%</th>\n",
              "      <td>2500.75000</td>\n",
              "      <td>1.562853e+07</td>\n",
              "      <td>584.000000</td>\n",
              "      <td>32.000000</td>\n",
              "      <td>3.000000</td>\n",
              "      <td>0.000000</td>\n",
              "      <td>1.000000</td>\n",
              "      <td>0.00000</td>\n",
              "      <td>0.000000</td>\n",
              "      <td>51002.110000</td>\n",
              "      <td>0.000000</td>\n",
              "    </tr>\n",
              "    <tr>\n",
              "      <th>50%</th>\n",
              "      <td>5000.50000</td>\n",
              "      <td>1.569074e+07</td>\n",
              "      <td>652.000000</td>\n",
              "      <td>37.000000</td>\n",
              "      <td>5.000000</td>\n",
              "      <td>97198.540000</td>\n",
              "      <td>1.000000</td>\n",
              "      <td>1.00000</td>\n",
              "      <td>1.000000</td>\n",
              "      <td>100193.915000</td>\n",
              "      <td>0.000000</td>\n",
              "    </tr>\n",
              "    <tr>\n",
              "      <th>75%</th>\n",
              "      <td>7500.25000</td>\n",
              "      <td>1.575323e+07</td>\n",
              "      <td>718.000000</td>\n",
              "      <td>44.000000</td>\n",
              "      <td>7.000000</td>\n",
              "      <td>127644.240000</td>\n",
              "      <td>2.000000</td>\n",
              "      <td>1.00000</td>\n",
              "      <td>1.000000</td>\n",
              "      <td>149388.247500</td>\n",
              "      <td>0.000000</td>\n",
              "    </tr>\n",
              "    <tr>\n",
              "      <th>max</th>\n",
              "      <td>10000.00000</td>\n",
              "      <td>1.581569e+07</td>\n",
              "      <td>850.000000</td>\n",
              "      <td>92.000000</td>\n",
              "      <td>10.000000</td>\n",
              "      <td>250898.090000</td>\n",
              "      <td>4.000000</td>\n",
              "      <td>1.00000</td>\n",
              "      <td>1.000000</td>\n",
              "      <td>199992.480000</td>\n",
              "      <td>1.000000</td>\n",
              "    </tr>\n",
              "  </tbody>\n",
              "</table>\n",
              "</div>"
            ],
            "text/plain": [
              "         RowNumber    CustomerId  ...  EstimatedSalary        Exited\n",
              "count  10000.00000  1.000000e+04  ...     10000.000000  10000.000000\n",
              "mean    5000.50000  1.569094e+07  ...    100090.239881      0.203700\n",
              "std     2886.89568  7.193619e+04  ...     57510.492818      0.402769\n",
              "min        1.00000  1.556570e+07  ...        11.580000      0.000000\n",
              "25%     2500.75000  1.562853e+07  ...     51002.110000      0.000000\n",
              "50%     5000.50000  1.569074e+07  ...    100193.915000      0.000000\n",
              "75%     7500.25000  1.575323e+07  ...    149388.247500      0.000000\n",
              "max    10000.00000  1.581569e+07  ...    199992.480000      1.000000\n",
              "\n",
              "[8 rows x 11 columns]"
            ]
          },
          "metadata": {
            "tags": []
          },
          "execution_count": 7
        }
      ]
    },
    {
      "cell_type": "code",
      "metadata": {
        "id": "lVuxx-kDfISd",
        "colab_type": "code",
        "colab": {}
      },
      "source": [
        "x = data.iloc[:,3:13].values\n",
        "y = data.iloc[:, 13].values"
      ],
      "execution_count": 0,
      "outputs": []
    },
    {
      "cell_type": "code",
      "metadata": {
        "id": "dCykR4GxfISp",
        "colab_type": "code",
        "colab": {}
      },
      "source": [
        "from sklearn.preprocessing import LabelEncoder, OneHotEncoder\n",
        "from sklearn.compose import ColumnTransformer\n",
        "ct = ColumnTransformer([('Geography', OneHotEncoder(), [1])], remainder = 'passthrough')\n",
        "x = ct.fit_transform(x)\n",
        "labelencoder_x = LabelEncoder()\n",
        "x[:, 4] = labelencoder_x.fit_transform(x[:, 4])\n",
        "x = np.array(x, dtype = np.float64)"
      ],
      "execution_count": 0,
      "outputs": []
    },
    {
      "cell_type": "code",
      "metadata": {
        "id": "hCt5K_zPfIS1",
        "colab_type": "code",
        "colab": {}
      },
      "source": [
        "# droping first column to avoid dummy trap\n",
        "x = x[:, 1:]"
      ],
      "execution_count": 0,
      "outputs": []
    },
    {
      "cell_type": "code",
      "metadata": {
        "id": "jebci2x6fIS9",
        "colab_type": "code",
        "colab": {}
      },
      "source": [
        "from sklearn.model_selection import train_test_split\n",
        "x_train, x_test, y_train, y_test = train_test_split(x, y, test_size = 0.2, random_state = 0)"
      ],
      "execution_count": 0,
      "outputs": []
    },
    {
      "cell_type": "code",
      "metadata": {
        "id": "PVGmqO76fITG",
        "colab_type": "code",
        "colab": {}
      },
      "source": [
        "# standardizing features\n",
        "from sklearn.preprocessing import StandardScaler\n",
        "sc = StandardScaler()\n",
        "x_train = sc.fit_transform(x_train)\n",
        "x_test = sc.transform(x_test)"
      ],
      "execution_count": 0,
      "outputs": []
    },
    {
      "cell_type": "code",
      "metadata": {
        "id": "Oq6aVflefITP",
        "colab_type": "code",
        "colab": {
          "base_uri": "https://localhost:8080/",
          "height": 34
        },
        "outputId": "5eebb87b-a030-4507-8085-bae250f3c1f8"
      },
      "source": [
        "from keras.models import Sequential\n",
        "from keras.layers import Dense\n",
        "# initializing ANN with input layer and first hidden layer\n",
        "def classifier():\n",
        "    \n",
        "    # initializing ANN\n",
        "    model = Sequential()\n",
        "    model.add(Dense(activation = 'relu', units = 6, kernel_initializer = 'uniform', input_dim = 11))\n",
        "    model.add(Dense(activation = 'relu', units = 6, kernel_initializer = 'uniform'))\n",
        "    model.add(Dense(activation = 'sigmoid', units = 1, kernel_initializer = 'uniform'))    \n",
        "    \n",
        "    # compiling ANN\n",
        "    model.compile(optimizer = 'adam', loss = 'binary_crossentropy', metrics= ['accuracy'])\n",
        "    \n",
        "    return model"
      ],
      "execution_count": 13,
      "outputs": [
        {
          "output_type": "stream",
          "text": [
            "Using TensorFlow backend.\n"
          ],
          "name": "stderr"
        }
      ]
    },
    {
      "cell_type": "code",
      "metadata": {
        "id": "19E-wCkQfITZ",
        "colab_type": "code",
        "colab": {
          "base_uri": "https://localhost:8080/",
          "height": 1000
        },
        "outputId": "fe92784d-3e9c-4439-f7d2-cdbc2abd033b"
      },
      "source": [
        "model = classifier()\n",
        "\n",
        "# fitting the training set\n",
        "model.fit(x_train, y_train, batch_size = 10, epochs = 100)"
      ],
      "execution_count": 14,
      "outputs": [
        {
          "output_type": "stream",
          "text": [
            "Epoch 1/100\n",
            "8000/8000 [==============================] - 1s 154us/step - loss: 0.4864 - accuracy: 0.7958\n",
            "Epoch 2/100\n",
            "8000/8000 [==============================] - 1s 116us/step - loss: 0.4280 - accuracy: 0.7960\n",
            "Epoch 3/100\n",
            "8000/8000 [==============================] - 1s 114us/step - loss: 0.4230 - accuracy: 0.7960\n",
            "Epoch 4/100\n",
            "8000/8000 [==============================] - 1s 114us/step - loss: 0.4193 - accuracy: 0.8134\n",
            "Epoch 5/100\n",
            "8000/8000 [==============================] - 1s 117us/step - loss: 0.4168 - accuracy: 0.8249\n",
            "Epoch 6/100\n",
            "8000/8000 [==============================] - 1s 119us/step - loss: 0.4147 - accuracy: 0.8300\n",
            "Epoch 7/100\n",
            "8000/8000 [==============================] - 1s 119us/step - loss: 0.4135 - accuracy: 0.8305\n",
            "Epoch 8/100\n",
            "8000/8000 [==============================] - 1s 116us/step - loss: 0.4122 - accuracy: 0.8310\n",
            "Epoch 9/100\n",
            "8000/8000 [==============================] - 1s 116us/step - loss: 0.4113 - accuracy: 0.8320\n",
            "Epoch 10/100\n",
            "8000/8000 [==============================] - 1s 119us/step - loss: 0.4103 - accuracy: 0.8328\n",
            "Epoch 11/100\n",
            "8000/8000 [==============================] - 1s 117us/step - loss: 0.4094 - accuracy: 0.8340\n",
            "Epoch 12/100\n",
            "8000/8000 [==============================] - 1s 118us/step - loss: 0.4093 - accuracy: 0.8351\n",
            "Epoch 13/100\n",
            "8000/8000 [==============================] - 1s 118us/step - loss: 0.4083 - accuracy: 0.8339\n",
            "Epoch 14/100\n",
            "8000/8000 [==============================] - 1s 116us/step - loss: 0.4075 - accuracy: 0.8345\n",
            "Epoch 15/100\n",
            "8000/8000 [==============================] - 1s 119us/step - loss: 0.4071 - accuracy: 0.8356\n",
            "Epoch 16/100\n",
            "8000/8000 [==============================] - 1s 118us/step - loss: 0.4064 - accuracy: 0.8341\n",
            "Epoch 17/100\n",
            "8000/8000 [==============================] - 1s 116us/step - loss: 0.4063 - accuracy: 0.8344\n",
            "Epoch 18/100\n",
            "8000/8000 [==============================] - 1s 116us/step - loss: 0.4058 - accuracy: 0.8356\n",
            "Epoch 19/100\n",
            "8000/8000 [==============================] - 1s 117us/step - loss: 0.4051 - accuracy: 0.8354\n",
            "Epoch 20/100\n",
            "8000/8000 [==============================] - 1s 116us/step - loss: 0.4052 - accuracy: 0.8354\n",
            "Epoch 21/100\n",
            "8000/8000 [==============================] - 1s 115us/step - loss: 0.4050 - accuracy: 0.8342\n",
            "Epoch 22/100\n",
            "8000/8000 [==============================] - 1s 114us/step - loss: 0.4044 - accuracy: 0.8345\n",
            "Epoch 23/100\n",
            "8000/8000 [==============================] - 1s 119us/step - loss: 0.4042 - accuracy: 0.8353\n",
            "Epoch 24/100\n",
            "8000/8000 [==============================] - 1s 116us/step - loss: 0.4039 - accuracy: 0.8349\n",
            "Epoch 25/100\n",
            "8000/8000 [==============================] - 1s 113us/step - loss: 0.4040 - accuracy: 0.8351\n",
            "Epoch 26/100\n",
            "8000/8000 [==============================] - 1s 113us/step - loss: 0.4034 - accuracy: 0.8349\n",
            "Epoch 27/100\n",
            "8000/8000 [==============================] - 1s 116us/step - loss: 0.4036 - accuracy: 0.8361\n",
            "Epoch 28/100\n",
            "8000/8000 [==============================] - 1s 116us/step - loss: 0.4035 - accuracy: 0.8355\n",
            "Epoch 29/100\n",
            "8000/8000 [==============================] - 1s 119us/step - loss: 0.4031 - accuracy: 0.8351\n",
            "Epoch 30/100\n",
            "8000/8000 [==============================] - 1s 118us/step - loss: 0.4034 - accuracy: 0.8340\n",
            "Epoch 31/100\n",
            "8000/8000 [==============================] - 1s 118us/step - loss: 0.4029 - accuracy: 0.8353\n",
            "Epoch 32/100\n",
            "8000/8000 [==============================] - 1s 119us/step - loss: 0.4028 - accuracy: 0.8360\n",
            "Epoch 33/100\n",
            "8000/8000 [==============================] - 1s 117us/step - loss: 0.4027 - accuracy: 0.8342\n",
            "Epoch 34/100\n",
            "8000/8000 [==============================] - 1s 116us/step - loss: 0.4026 - accuracy: 0.8350\n",
            "Epoch 35/100\n",
            "8000/8000 [==============================] - 1s 119us/step - loss: 0.4028 - accuracy: 0.8342\n",
            "Epoch 36/100\n",
            "8000/8000 [==============================] - 1s 118us/step - loss: 0.4024 - accuracy: 0.8336\n",
            "Epoch 37/100\n",
            "8000/8000 [==============================] - 1s 113us/step - loss: 0.4029 - accuracy: 0.8353\n",
            "Epoch 38/100\n",
            "8000/8000 [==============================] - 1s 118us/step - loss: 0.4027 - accuracy: 0.8364\n",
            "Epoch 39/100\n",
            "8000/8000 [==============================] - 1s 117us/step - loss: 0.4023 - accuracy: 0.8344\n",
            "Epoch 40/100\n",
            "8000/8000 [==============================] - 1s 115us/step - loss: 0.4027 - accuracy: 0.8347\n",
            "Epoch 41/100\n",
            "8000/8000 [==============================] - 1s 115us/step - loss: 0.4018 - accuracy: 0.8328\n",
            "Epoch 42/100\n",
            "8000/8000 [==============================] - 1s 117us/step - loss: 0.4021 - accuracy: 0.8367\n",
            "Epoch 43/100\n",
            "8000/8000 [==============================] - 1s 114us/step - loss: 0.4024 - accuracy: 0.8351\n",
            "Epoch 44/100\n",
            "8000/8000 [==============================] - 1s 118us/step - loss: 0.4022 - accuracy: 0.8350\n",
            "Epoch 45/100\n",
            "8000/8000 [==============================] - 1s 116us/step - loss: 0.4022 - accuracy: 0.8361\n",
            "Epoch 46/100\n",
            "8000/8000 [==============================] - 1s 119us/step - loss: 0.4023 - accuracy: 0.8339\n",
            "Epoch 47/100\n",
            "8000/8000 [==============================] - 1s 116us/step - loss: 0.4019 - accuracy: 0.8363\n",
            "Epoch 48/100\n",
            "8000/8000 [==============================] - 1s 117us/step - loss: 0.4022 - accuracy: 0.8344\n",
            "Epoch 49/100\n",
            "8000/8000 [==============================] - 1s 116us/step - loss: 0.4017 - accuracy: 0.8356\n",
            "Epoch 50/100\n",
            "8000/8000 [==============================] - 1s 115us/step - loss: 0.4020 - accuracy: 0.8341\n",
            "Epoch 51/100\n",
            "8000/8000 [==============================] - 1s 115us/step - loss: 0.4018 - accuracy: 0.8347\n",
            "Epoch 52/100\n",
            "8000/8000 [==============================] - 1s 119us/step - loss: 0.4019 - accuracy: 0.8359\n",
            "Epoch 53/100\n",
            "8000/8000 [==============================] - 1s 112us/step - loss: 0.4020 - accuracy: 0.8341\n",
            "Epoch 54/100\n",
            "8000/8000 [==============================] - 1s 114us/step - loss: 0.4015 - accuracy: 0.8350\n",
            "Epoch 55/100\n",
            "8000/8000 [==============================] - 1s 116us/step - loss: 0.4019 - accuracy: 0.8344\n",
            "Epoch 56/100\n",
            "8000/8000 [==============================] - 1s 115us/step - loss: 0.4017 - accuracy: 0.8346\n",
            "Epoch 57/100\n",
            "8000/8000 [==============================] - 1s 117us/step - loss: 0.4015 - accuracy: 0.8349\n",
            "Epoch 58/100\n",
            "8000/8000 [==============================] - 1s 115us/step - loss: 0.4016 - accuracy: 0.8357\n",
            "Epoch 59/100\n",
            "8000/8000 [==============================] - 1s 113us/step - loss: 0.4016 - accuracy: 0.8346\n",
            "Epoch 60/100\n",
            "8000/8000 [==============================] - 1s 113us/step - loss: 0.4011 - accuracy: 0.8359\n",
            "Epoch 61/100\n",
            "8000/8000 [==============================] - 1s 116us/step - loss: 0.4014 - accuracy: 0.8367\n",
            "Epoch 62/100\n",
            "8000/8000 [==============================] - 1s 115us/step - loss: 0.4015 - accuracy: 0.8357\n",
            "Epoch 63/100\n",
            "8000/8000 [==============================] - 1s 112us/step - loss: 0.4015 - accuracy: 0.8342\n",
            "Epoch 64/100\n",
            "8000/8000 [==============================] - 1s 110us/step - loss: 0.4015 - accuracy: 0.8346\n",
            "Epoch 65/100\n",
            "8000/8000 [==============================] - 1s 109us/step - loss: 0.4017 - accuracy: 0.8359\n",
            "Epoch 66/100\n",
            "8000/8000 [==============================] - 1s 108us/step - loss: 0.4016 - accuracy: 0.8357\n",
            "Epoch 67/100\n",
            "8000/8000 [==============================] - 1s 110us/step - loss: 0.4017 - accuracy: 0.8361\n",
            "Epoch 68/100\n",
            "8000/8000 [==============================] - 1s 109us/step - loss: 0.4014 - accuracy: 0.8353\n",
            "Epoch 69/100\n",
            "8000/8000 [==============================] - 1s 108us/step - loss: 0.4013 - accuracy: 0.8355\n",
            "Epoch 70/100\n",
            "8000/8000 [==============================] - 1s 112us/step - loss: 0.4014 - accuracy: 0.8351\n",
            "Epoch 71/100\n",
            "8000/8000 [==============================] - 1s 108us/step - loss: 0.4014 - accuracy: 0.8347\n",
            "Epoch 72/100\n",
            "8000/8000 [==============================] - 1s 109us/step - loss: 0.4015 - accuracy: 0.8351\n",
            "Epoch 73/100\n",
            "8000/8000 [==============================] - 1s 111us/step - loss: 0.4010 - accuracy: 0.8360\n",
            "Epoch 74/100\n",
            "8000/8000 [==============================] - 1s 113us/step - loss: 0.4010 - accuracy: 0.8354\n",
            "Epoch 75/100\n",
            "8000/8000 [==============================] - 1s 124us/step - loss: 0.4011 - accuracy: 0.8371\n",
            "Epoch 76/100\n",
            "8000/8000 [==============================] - 1s 120us/step - loss: 0.4004 - accuracy: 0.8361\n",
            "Epoch 77/100\n",
            "8000/8000 [==============================] - 1s 119us/step - loss: 0.4012 - accuracy: 0.8351\n",
            "Epoch 78/100\n",
            "8000/8000 [==============================] - 1s 120us/step - loss: 0.4010 - accuracy: 0.8356\n",
            "Epoch 79/100\n",
            "8000/8000 [==============================] - 1s 123us/step - loss: 0.4009 - accuracy: 0.8351\n",
            "Epoch 80/100\n",
            "8000/8000 [==============================] - 1s 121us/step - loss: 0.4010 - accuracy: 0.8353\n",
            "Epoch 81/100\n",
            "8000/8000 [==============================] - 1s 113us/step - loss: 0.4013 - accuracy: 0.8342\n",
            "Epoch 82/100\n",
            "8000/8000 [==============================] - 1s 113us/step - loss: 0.4004 - accuracy: 0.8340\n",
            "Epoch 83/100\n",
            "8000/8000 [==============================] - 1s 115us/step - loss: 0.4006 - accuracy: 0.8363\n",
            "Epoch 84/100\n",
            "8000/8000 [==============================] - 1s 116us/step - loss: 0.4008 - accuracy: 0.8340\n",
            "Epoch 85/100\n",
            "8000/8000 [==============================] - 1s 113us/step - loss: 0.4007 - accuracy: 0.8369\n",
            "Epoch 86/100\n",
            "8000/8000 [==============================] - 1s 115us/step - loss: 0.4008 - accuracy: 0.8354\n",
            "Epoch 87/100\n",
            "8000/8000 [==============================] - 1s 118us/step - loss: 0.4005 - accuracy: 0.8355\n",
            "Epoch 88/100\n",
            "8000/8000 [==============================] - 1s 118us/step - loss: 0.4003 - accuracy: 0.8341\n",
            "Epoch 89/100\n",
            "8000/8000 [==============================] - 1s 115us/step - loss: 0.4010 - accuracy: 0.8351\n",
            "Epoch 90/100\n",
            "8000/8000 [==============================] - 1s 116us/step - loss: 0.4007 - accuracy: 0.8369\n",
            "Epoch 91/100\n",
            "8000/8000 [==============================] - 1s 117us/step - loss: 0.4010 - accuracy: 0.8349\n",
            "Epoch 92/100\n",
            "8000/8000 [==============================] - 1s 114us/step - loss: 0.4004 - accuracy: 0.8344\n",
            "Epoch 93/100\n",
            "8000/8000 [==============================] - 1s 117us/step - loss: 0.4010 - accuracy: 0.8356\n",
            "Epoch 94/100\n",
            "8000/8000 [==============================] - 1s 115us/step - loss: 0.4009 - accuracy: 0.8363\n",
            "Epoch 95/100\n",
            "8000/8000 [==============================] - 1s 116us/step - loss: 0.4005 - accuracy: 0.8363\n",
            "Epoch 96/100\n",
            "8000/8000 [==============================] - 1s 118us/step - loss: 0.4007 - accuracy: 0.8347\n",
            "Epoch 97/100\n",
            "8000/8000 [==============================] - 1s 115us/step - loss: 0.4005 - accuracy: 0.8344\n",
            "Epoch 98/100\n",
            "8000/8000 [==============================] - 1s 114us/step - loss: 0.4008 - accuracy: 0.8353\n",
            "Epoch 99/100\n",
            "8000/8000 [==============================] - 1s 116us/step - loss: 0.4003 - accuracy: 0.8336\n",
            "Epoch 100/100\n",
            "8000/8000 [==============================] - 1s 115us/step - loss: 0.4009 - accuracy: 0.8366\n"
          ],
          "name": "stdout"
        },
        {
          "output_type": "execute_result",
          "data": {
            "text/plain": [
              "<keras.callbacks.callbacks.History at 0x7f19ec725278>"
            ]
          },
          "metadata": {
            "tags": []
          },
          "execution_count": 14
        }
      ]
    },
    {
      "cell_type": "code",
      "metadata": {
        "id": "iGHN0C0kfITk",
        "colab_type": "code",
        "colab": {}
      },
      "source": [
        "y_predic = model.predict(x_test)   #predicting results"
      ],
      "execution_count": 0,
      "outputs": []
    },
    {
      "cell_type": "code",
      "metadata": {
        "id": "5S9Y51aLfITt",
        "colab_type": "code",
        "colab": {
          "base_uri": "https://localhost:8080/",
          "height": 139
        },
        "outputId": "94b2e8dc-983b-43c2-bfca-86457cd56699"
      },
      "source": [
        "y_predi_bin = (y_predic > 0.5)\n",
        "y_predi_bin"
      ],
      "execution_count": 16,
      "outputs": [
        {
          "output_type": "execute_result",
          "data": {
            "text/plain": [
              "array([[False],\n",
              "       [False],\n",
              "       [False],\n",
              "       ...,\n",
              "       [False],\n",
              "       [False],\n",
              "       [False]])"
            ]
          },
          "metadata": {
            "tags": []
          },
          "execution_count": 16
        }
      ]
    },
    {
      "cell_type": "code",
      "metadata": {
        "id": "JO_Bz5wjfIT4",
        "colab_type": "code",
        "colab": {
          "base_uri": "https://localhost:8080/",
          "height": 52
        },
        "outputId": "4d28723e-9b64-44dc-ee48-5abd10499f02"
      },
      "source": [
        "from sklearn.metrics import confusion_matrix\n",
        "confusion_matrix(y_predi_bin, y_test)             # predicting power"
      ],
      "execution_count": 17,
      "outputs": [
        {
          "output_type": "execute_result",
          "data": {
            "text/plain": [
              "array([[1546,  277],\n",
              "       [  49,  128]])"
            ]
          },
          "metadata": {
            "tags": []
          },
          "execution_count": 17
        }
      ]
    },
    {
      "cell_type": "code",
      "metadata": {
        "id": "XtI2HHFjfIUB",
        "colab_type": "code",
        "colab": {
          "base_uri": "https://localhost:8080/",
          "height": 34
        },
        "outputId": "690e5664-fe33-4320-bdf9-86bbc9b73d22"
      },
      "source": [
        "# checking accuracy\n",
        "(1546 + 128)/2000"
      ],
      "execution_count": 23,
      "outputs": [
        {
          "output_type": "execute_result",
          "data": {
            "text/plain": [
              "0.837"
            ]
          },
          "metadata": {
            "tags": []
          },
          "execution_count": 23
        }
      ]
    },
    {
      "cell_type": "markdown",
      "metadata": {
        "id": "yDY8xSnPfIUN",
        "colab_type": "text"
      },
      "source": [
        "# Model Evaluation using k-fold cross-validation"
      ]
    },
    {
      "cell_type": "code",
      "metadata": {
        "id": "2DlmsnkYfIUO",
        "colab_type": "code",
        "colab": {}
      },
      "source": [
        "from keras.wrappers.scikit_learn import KerasClassifier\n",
        "from sklearn.model_selection import cross_val_score"
      ],
      "execution_count": 0,
      "outputs": []
    },
    {
      "cell_type": "code",
      "metadata": {
        "id": "6pVAlIzlfIUj",
        "colab_type": "code",
        "colab": {}
      },
      "source": [
        "model = KerasClassifier(build_fn = classifier, batch_size = 10, epochs = 100)\n",
        "accuracies = cross_val_score(estimator = model, X = x_train, y = y_train, cv = 10, n_jobs = -1)"
      ],
      "execution_count": 0,
      "outputs": []
    },
    {
      "cell_type": "code",
      "metadata": {
        "id": "2TV2Trn-fIUu",
        "colab_type": "code",
        "colab": {
          "base_uri": "https://localhost:8080/",
          "height": 52
        },
        "outputId": "9ac9a18a-eef7-42e6-831a-17fe573cfbd2"
      },
      "source": [
        "mean = accuracies.mean()\n",
        "variance = accuracies.std()\n",
        "print('Accuracy: {:.2f}\\nVariance: {:.2f}'.format(mean,variance))"
      ],
      "execution_count": 22,
      "outputs": [
        {
          "output_type": "stream",
          "text": [
            "Accuracy: 0.84\n",
            "Variance: 0.02\n"
          ],
          "name": "stdout"
        }
      ]
    }
  ]
}